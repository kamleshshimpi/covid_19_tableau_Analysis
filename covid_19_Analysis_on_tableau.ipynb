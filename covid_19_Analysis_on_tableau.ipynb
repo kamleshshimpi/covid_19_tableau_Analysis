{
 "cells": [
  {
   "cell_type": "markdown",
   "metadata": {},
   "source": [
    "## For ease of access I have made this IPython Notebook.this pictures are the screenshots of visualization of project of Covid-19 Cases Analysis in Tableau Public 2020.3.   "
   ]
  },
  {
   "cell_type": "markdown",
   "metadata": {},
   "source": [
    "## the Covid-19 data is from Johns Hopkins University, the data is up to 16th May 2020."
   ]
  },
  {
   "cell_type": "markdown",
   "metadata": {},
   "source": [
    "### <font color='blue'> Below Map shows how the covid cases progression in various countries by the time interval of a week from 1 1st Dec 2019 to 16th may 2020. from the following map we can conclude that USA ,Russia ,Brazil and europe are most Effected with Covid-19 and India ,Iran and Canada can be the potential ground for Covid-19. where the  African Continent is that not affected with covid cases as compared to other world."
   ]
  },
  {
   "cell_type": "markdown",
   "metadata": {},
   "source": [
    "![title](Desktop\\map.png)"
   ]
  },
  {
   "cell_type": "markdown",
   "metadata": {},
   "source": [
    "### <font color='blue'> The followong visualization shows the bar graph of total covid cases and total deaths due to covid cases. the USA  Russia ,UK spain ,italy ,brazil ,france and turkey shows more covid cases then rest of world but Russia has managed to control the death due to covid-19 where death due to covid-19 is more in USA and western and middle Europe. "
   ]
  },
  {
   "cell_type": "markdown",
   "metadata": {},
   "source": [
    "![title](Desktop\\bar.png)"
   ]
  },
  {
   "cell_type": "markdown",
   "metadata": {},
   "source": [
    "### <font color='blue'>The following is the time graph of covid-19 cases of china ,india ,italy ,russia ,spain and UK. from following graph We can conclude that china has control covid-19 pandemic after huge spike where Italy and Spain shows little Drop in Covid-19 cases and India shows rise in graph. "
   ]
  },
  {
   "cell_type": "markdown",
   "metadata": {},
   "source": [
    "![title](Desktop\\time.png)"
   ]
  }
 ],
 "metadata": {
  "kernelspec": {
   "display_name": "Python 3",
   "language": "python",
   "name": "python3"
  },
  "language_info": {
   "codemirror_mode": {
    "name": "ipython",
    "version": 3
   },
   "file_extension": ".py",
   "mimetype": "text/x-python",
   "name": "python",
   "nbconvert_exporter": "python",
   "pygments_lexer": "ipython3",
   "version": "3.7.3"
  }
 },
 "nbformat": 4,
 "nbformat_minor": 2
}
